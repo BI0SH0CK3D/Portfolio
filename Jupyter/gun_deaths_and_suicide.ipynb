{
 "cells": [
  {
   "cell_type": "markdown",
   "metadata": {},
   "source": [
    "# Gun Deaths and Suicide \n",
    "An overview of gun related suicides using CDC from 2012-2014. The data suggest that suicide poses a more pressing threat to public health than accidents or homicide, and that sex and race play a role in risk\n",
    "\n",
    "(Note: this evolved from a guided project on DataQuest.io. The data was complied from the CDC by FiveThirtyEight)\n"
   ]
  },
  {
   "cell_type": "code",
   "execution_count": 10,
   "metadata": {
    "collapsed": false
   },
   "outputs": [
    {
     "name": "stdout",
     "output_type": "stream",
     "text": [
      "['1', '2012', '01', 'Suicide', '0', 'M', '34', 'Asian/Pacific Islander', '100', 'Home', '4']\n",
      "['2', '2012', '01', 'Suicide', '0', 'F', '21', 'White', '100', 'Street', '3']\n",
      "['3', '2012', '01', 'Suicide', '0', 'M', '60', 'White', '100', 'Other specified', '4']\n",
      "['4', '2012', '02', 'Suicide', '0', 'M', '64', 'White', '100', 'Home', '4']\n",
      "['5', '2012', '02', 'Suicide', '0', 'M', '31', 'White', '100', 'Other specified', '2']\n"
     ]
    }
   ],
   "source": [
    "import csv\n",
    "\n",
    "with open('guns.csv') as infile:\n",
    "    raw_data = csv.reader(infile)\n",
    "    data = list(raw_data)[1:]\n",
    "\n",
    "# preview data \n",
    "for line in data[:5]: print(line)"
   ]
  },
  {
   "cell_type": "markdown",
   "metadata": {},
   "source": [
    "# Sex and gun related suicides \n",
    "A clear sex-based pattern is seen in suicides by gun"
   ]
  },
  {
   "cell_type": "code",
   "execution_count": 8,
   "metadata": {
    "collapsed": false
   },
   "outputs": [
    {
     "name": "stdout",
     "output_type": "stream",
     "text": [
      "Male firearm suicide for every female: 5.98\n"
     ]
    }
   ],
   "source": [
    "sexes = [row[5] for row in data]\n",
    "sex_count ={}\n",
    "\n",
    "# dictionary count\n",
    "for sex in sexes:\n",
    "    if sex not in sex_count:\n",
    "        sex_count[sex] = 0\n",
    "    sex_count[sex] += 1\n",
    "sex_count\n",
    "\n",
    "males_per_female = round(sex_count['M']/sex_count['F'], 2)\n",
    "print('Male firearm suicide for every female:',males_per_female)\n"
   ]
  },
  {
   "cell_type": "markdown",
   "metadata": {},
   "source": [
    "# Suicides vs Homicides \n",
    "Suicides also outnumber homicides by a fair margin "
   ]
  },
  {
   "cell_type": "code",
   "execution_count": 6,
   "metadata": {
    "collapsed": false
   },
   "outputs": [
    {
     "name": "stdout",
     "output_type": "stream",
     "text": [
      "Suicides: 63175\n",
      "Homicides: 35176\n",
      "total_deaths: 100798\n",
      "Suicide: 62.67 %\n",
      "Homicide: 34.9 %\n",
      "Suicides per homicide: 1.8\n"
     ]
    }
   ],
   "source": [
    "total_deaths = len(data)\n",
    "\n",
    "suicide_count = 0\n",
    "non_suicide_count = 0\n",
    "\n",
    "homicide_count = 0\n",
    "non_homicide_count = 0\n",
    "\n",
    "for row in data:\n",
    "    if row[3] =='Suicide':\n",
    "        suicide_count += 1\n",
    "    else:\n",
    "        non_suicide_count +=1\n",
    "    if row[3] =='Homicide':\n",
    "        homicide_count += 1\n",
    "    else:\n",
    "        non_homicide_count += 1\n",
    "\n",
    "print(\"Suicides:\", suicide_count)\n",
    "print(\"Homicides:\", homicide_count)\n",
    "print(\"total_deaths:\", total_deaths)\n",
    "\n",
    "suicide_percentage = float(suicide_count)/float(total_deaths) * 100\n",
    "homicide_percentage = float(homicide_count)/float(total_deaths) * 100\n",
    "\n",
    "print(\"Suicide:\", round(suicide_percentage, 2), \"%\")\n",
    "print(\"Homicide:\",round(homicide_percentage, 2), \"%\")\n",
    "\n",
    "suicides_per_homicide = suicide_count/homicide_count\n",
    "print(\"Suicides per homicide: \", end =\"\")\n",
    "print(round(suicides_per_homicide, 2))\n",
    "\n",
    "assert int(suicide_count) + int(non_suicide_count) == len(data)\n",
    "assert int(homicide_count) + int(non_homicide_count) == len(data)\n",
    "\n"
   ]
  },
  {
   "cell_type": "markdown",
   "metadata": {},
   "source": [
    "# Suicide vs Accidents \n",
    "Suicides also outnumber accidents, which account for less than 2% of total gun deaths"
   ]
  },
  {
   "cell_type": "code",
   "execution_count": 9,
   "metadata": {
    "collapsed": false
   },
   "outputs": [
    {
     "name": "stdout",
     "output_type": "stream",
     "text": [
      "Total Deaths: 100798\n",
      "Accidental Deaths: 1639 ( 1.63 % of gun deaths )\n"
     ]
    }
   ],
   "source": [
    "total_deaths = len(data)\n",
    "\n",
    "total_accidents = 0\n",
    "\n",
    "for row in data:\n",
    "    if row[3] == \"Accidental\":\n",
    "        total_accidents += 1\n",
    "        \n",
    "percent_accidents = round((total_accidents/total_deaths) * 100, 2)\n",
    "\n",
    "print(\"Total Deaths:\", total_deaths)\n",
    "print(\"Accidental Deaths:\", total_accidents, end='')\n",
    "print(' (', percent_accidents, '% of gun deaths )')"
   ]
  },
  {
   "cell_type": "markdown",
   "metadata": {},
   "source": [
    "# Suicide and race\n"
   ]
  },
  {
   "cell_type": "code",
   "execution_count": 28,
   "metadata": {
    "collapsed": false
   },
   "outputs": [
    {
     "name": "stdout",
     "output_type": "stream",
     "text": [
      "Racial make up of suicides:\n",
      "Asian/Pacific Islander 1.18 %\n",
      "White 87.65 %\n",
      "Native American/Native Alaskan 0.88 %\n",
      "Black 5.27 %\n",
      "Hispanic 5.02 %\n",
      "\n",
      "Racial makeup of general population:\n",
      "Asian/Pacific Islander 5.25 %\n",
      "White 65.39 %\n",
      "Hispanic 14.79 %\n",
      "Native American/Native Alaskan 1.24 %\n",
      "Black 13.34 %\n"
     ]
    }
   ],
   "source": [
    "# confirm number of race catagories\n",
    "racial_catagories = []\n",
    "for row in data:\n",
    "    if row[7] not in racial_catagories:\n",
    "        racial_catagories.append(row[7])\n",
    "\n",
    "# taken from census data. Asian/Pacific islander combined (they were distinct in census)\n",
    "race_census_dict = {\n",
    "    \"Asian/Pacific Islander\": 15159516 + 674625,\n",
    "    \"Native American/Native Alaskan\": 3739506,\n",
    "    \"Black\": 40250635,\n",
    "    \"Hispanic\": 44618105,\n",
    "    \"White\": 197318956 }        \n",
    "        \n",
    "# get total population\n",
    "total_population = 0\n",
    "for race in race_census_dict:\n",
    "    total_population += race_census_dict[race]\n",
    "total_population\n",
    "        \n",
    "        \n",
    "def suicide_by_race(input_data, race):\n",
    "    count = 0\n",
    "    for row in input_data:\n",
    "        if row[3] == 'Suicide' and row[7] == race:\n",
    "            count += 1\n",
    "    return int(count)\n",
    "\n",
    "\n",
    "\n",
    "\n",
    "# this is an experiment I am using to incorporate assertion\n",
    "# statements. I'm simply adding things back up to make sure\n",
    "# the numbers check out and then using an 'assert'\n",
    "suicide_qc = 0\n",
    "\n",
    "# display data\n",
    "print(\"Racial make up of suicides:\")\n",
    "for race in racial_catagories:\n",
    "    count = suicide_by_race(data, race)\n",
    "    suicide_qc += count\n",
    "    print(race, round(int(count)/suicide_count * 100, 2), '%')\n",
    "\n",
    "print(\"\\nRacial makeup of general population:\")\n",
    "for race in race_census_dict:\n",
    "    percent_population = (race_census_dict[race]/total_population) * 100\n",
    "    print(race, round(percent_population, 2), '%')\n",
    "\n",
    "    \n",
    "# actual assertion statement - is the sum of the suicides by race \n",
    "# the sum of the suicides in general?\n",
    "assert suicide_qc == suicide_count"
   ]
  }
 ],
 "metadata": {
  "kernelspec": {
   "display_name": "Python 3",
   "language": "python",
   "name": "python3"
  },
  "language_info": {
   "codemirror_mode": {
    "name": "ipython",
    "version": 3
   },
   "file_extension": ".py",
   "mimetype": "text/x-python",
   "name": "python",
   "nbconvert_exporter": "python",
   "pygments_lexer": "ipython3",
   "version": "3.4.3"
  }
 },
 "nbformat": 4,
 "nbformat_minor": 2
}
